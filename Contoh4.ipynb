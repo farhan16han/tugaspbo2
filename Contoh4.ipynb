{
  "nbformat": 4,
  "nbformat_minor": 0,
  "metadata": {
    "colab": {
      "provenance": [],
      "authorship_tag": "ABX9TyNn1NE0IZaFAhC3OxrfNpRa",
      "include_colab_link": true
    },
    "kernelspec": {
      "name": "python3",
      "display_name": "Python 3"
    },
    "language_info": {
      "name": "python"
    }
  },
  "cells": [
    {
      "cell_type": "markdown",
      "metadata": {
        "id": "view-in-github",
        "colab_type": "text"
      },
      "source": [
        "<a href=\"https://colab.research.google.com/github/farhan16han/tugaspbo2/blob/main/Contoh4.ipynb\" target=\"_parent\"><img src=\"https://colab.research.google.com/assets/colab-badge.svg\" alt=\"Open In Colab\"/></a>"
      ]
    },
    {
      "cell_type": "code",
      "execution_count": 1,
      "metadata": {
        "colab": {
          "base_uri": "https://localhost:8080/"
        },
        "id": "lXxk6bYsi_Ng",
        "outputId": "b689b145-0a6b-40be-ca9d-17846e81e9a6"
      },
      "outputs": [
        {
          "output_type": "stream",
          "name": "stdout",
          "text": [
            "Kucing bersuara Meong.\n"
          ]
        }
      ],
      "source": [
        "##Contoh 4\n",
        "class Hewan:\n",
        "    def __init__(self, jenis, suara):\n",
        "        self.jenis = jenis\n",
        "        self.suara = suara\n",
        "\n",
        "    def buat_suara(self):\n",
        "        return f\"{self.jenis} bersuara {self.suara}.\"\n",
        "\n",
        "# Membuat objek dari kelas Hewan\n",
        "hwn = Hewan(\"Kucing\", \"Meong\")\n",
        "print(hwn.buat_suara())"
      ]
    }
  ]
}