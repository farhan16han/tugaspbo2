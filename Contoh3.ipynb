{
  "nbformat": 4,
  "nbformat_minor": 0,
  "metadata": {
    "colab": {
      "provenance": [],
      "authorship_tag": "ABX9TyMKUkcce2KwfE5qjG+Qw6uE",
      "include_colab_link": true
    },
    "kernelspec": {
      "name": "python3",
      "display_name": "Python 3"
    },
    "language_info": {
      "name": "python"
    }
  },
  "cells": [
    {
      "cell_type": "markdown",
      "metadata": {
        "id": "view-in-github",
        "colab_type": "text"
      },
      "source": [
        "<a href=\"https://colab.research.google.com/github/farhan16han/tugaspbo2/blob/main/Contoh3.ipynb\" target=\"_parent\"><img src=\"https://colab.research.google.com/assets/colab-badge.svg\" alt=\"Open In Colab\"/></a>"
      ]
    },
    {
      "cell_type": "code",
      "execution_count": 1,
      "metadata": {
        "colab": {
          "base_uri": "https://localhost:8080/"
        },
        "id": "K5sJEXAmihlD",
        "outputId": "7da24e8b-e641-42f9-a6c3-658f7cd2a90e"
      },
      "outputs": [
        {
          "output_type": "stream",
          "name": "stdout",
          "text": [
            "Mobil Toyota berwarna Merah siap digunakan.\n"
          ]
        }
      ],
      "source": [
        "##Contoh 3\n",
        "class Mobil:\n",
        "    def __init__(self, merk, warna):\n",
        "        self.merk = merk\n",
        "        self.warna = warna\n",
        "\n",
        "    def info_mobil(self):\n",
        "        return f\"Mobil {self.merk} berwarna {self.warna} siap digunakan.\"\n",
        "\n",
        "# Membuat objek dari kelas Mobil\n",
        "mbl = Mobil(\"Toyota\", \"Merah\")\n",
        "print(mbl.info_mobil())"
      ]
    }
  ]
}