{
  "nbformat": 4,
  "nbformat_minor": 0,
  "metadata": {
    "colab": {
      "provenance": [],
      "authorship_tag": "ABX9TyM+Sv/dKQaoOneFOCpK+1qV",
      "include_colab_link": true
    },
    "kernelspec": {
      "name": "python3",
      "display_name": "Python 3"
    },
    "language_info": {
      "name": "python"
    }
  },
  "cells": [
    {
      "cell_type": "markdown",
      "metadata": {
        "id": "view-in-github",
        "colab_type": "text"
      },
      "source": [
        "<a href=\"https://colab.research.google.com/github/farhan16han/tugaspbo2/blob/main/Contoh5.ipynb\" target=\"_parent\"><img src=\"https://colab.research.google.com/assets/colab-badge.svg\" alt=\"Open In Colab\"/></a>"
      ]
    },
    {
      "cell_type": "code",
      "execution_count": null,
      "metadata": {
        "id": "5VQ6hC9_jIUf"
      },
      "outputs": [],
      "source": [
        "##Contoh 5\n",
        "class AkunBank:\n",
        "    def __init__(self, nama, saldo):\n",
        "        self.nama = nama\n",
        "        self.saldo = saldo\n",
        "\n",
        "    def cek_saldo(self):\n",
        "        return f\"Saldo {self.nama}: Rp {self.saldo}\"\n",
        "\n",
        "# Membuat objek dari kelas AkunBank\n",
        "akun = AkunBank(\"Farhan\", 500000)\n",
        "print(akun.cek_saldo())"
      ]
    }
  ]
}